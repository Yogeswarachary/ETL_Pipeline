{
  "nbformat": 4,
  "nbformat_minor": 0,
  "metadata": {
    "colab": {
      "provenance": []
    },
    "kernelspec": {
      "name": "python3",
      "display_name": "Python 3"
    },
    "language_info": {
      "name": "python"
    }
  },
  "cells": [
    {
      "cell_type": "code",
      "execution_count": null,
      "metadata": {
        "colab": {
          "base_uri": "https://localhost:8080/"
        },
        "id": "8txRcPQyyOTP",
        "outputId": "74733cb6-4193-4bcf-c651-e5f662cdb837"
      },
      "outputs": [
        {
          "output_type": "stream",
          "name": "stdout",
          "text": [
            "Hello\n"
          ]
        }
      ],
      "source": [
        "print(\"Hello\")"
      ]
    },
    {
      "cell_type": "code",
      "source": [
        "#Open the file\n",
        "#Load the data and print it\n",
        "#reader is variable\n",
        "\n",
        "#here you can give simple variable name to the file\n",
        "\n",
        "import csv\n",
        "#with open(r\"copy the Path of the File here\",'r') as file:\n",
        "with open('sample_data.csv', 'r') as file:\n",
        "  reader = csv.reader(file)\n",
        "  for i in reader: #Here 'i' is the variable for the rows in the given csv file\n",
        "    print(i)"
      ],
      "metadata": {
        "colab": {
          "base_uri": "https://localhost:8080/",
          "height": 211
        },
        "id": "d-rkJ-MXymtR",
        "outputId": "f935a5c8-2f1f-4edd-cacf-7baab6576999"
      },
      "execution_count": null,
      "outputs": [
        {
          "output_type": "error",
          "ename": "FileNotFoundError",
          "evalue": "[Errno 2] No such file or directory: 'sample_data.csv'",
          "traceback": [
            "\u001b[0;31m---------------------------------------------------------------------------\u001b[0m",
            "\u001b[0;31mFileNotFoundError\u001b[0m                         Traceback (most recent call last)",
            "\u001b[0;32m<ipython-input-1-00f01a41c8eb>\u001b[0m in \u001b[0;36m<cell line: 0>\u001b[0;34m()\u001b[0m\n\u001b[1;32m      7\u001b[0m \u001b[0;32mimport\u001b[0m \u001b[0mcsv\u001b[0m\u001b[0;34m\u001b[0m\u001b[0;34m\u001b[0m\u001b[0m\n\u001b[1;32m      8\u001b[0m \u001b[0;31m#with open(r\"copy the Path of the File here\",'r') as file:\u001b[0m\u001b[0;34m\u001b[0m\u001b[0;34m\u001b[0m\u001b[0m\n\u001b[0;32m----> 9\u001b[0;31m \u001b[0;32mwith\u001b[0m \u001b[0mopen\u001b[0m\u001b[0;34m(\u001b[0m\u001b[0;34m'sample_data.csv'\u001b[0m\u001b[0;34m,\u001b[0m \u001b[0;34m'r'\u001b[0m\u001b[0;34m)\u001b[0m \u001b[0;32mas\u001b[0m \u001b[0mfile\u001b[0m\u001b[0;34m:\u001b[0m\u001b[0;34m\u001b[0m\u001b[0;34m\u001b[0m\u001b[0m\n\u001b[0m\u001b[1;32m     10\u001b[0m   \u001b[0mreader\u001b[0m \u001b[0;34m=\u001b[0m \u001b[0mcsv\u001b[0m\u001b[0;34m.\u001b[0m\u001b[0mreader\u001b[0m\u001b[0;34m(\u001b[0m\u001b[0mfile\u001b[0m\u001b[0;34m)\u001b[0m\u001b[0;34m\u001b[0m\u001b[0;34m\u001b[0m\u001b[0m\n\u001b[1;32m     11\u001b[0m   \u001b[0;32mfor\u001b[0m \u001b[0mi\u001b[0m \u001b[0;32min\u001b[0m \u001b[0mreader\u001b[0m\u001b[0;34m:\u001b[0m \u001b[0;31m#Here 'i' is the variable for the rows in the given csv file\u001b[0m\u001b[0;34m\u001b[0m\u001b[0;34m\u001b[0m\u001b[0m\n",
            "\u001b[0;31mFileNotFoundError\u001b[0m: [Errno 2] No such file or directory: 'sample_data.csv'"
          ]
        }
      ]
    },
    {
      "cell_type": "code",
      "source": [
        "#Adding a new data to the above Sample CSV file\n",
        "data = ['106', 'shakul', '40', 'Delhi', '50000']\n",
        "with open('sample_data.csv', 'w') as file:\n",
        "  writer = csv.writer(file)\n",
        "  writer.writerows(data)\n",
        "print(\"CSV has been updated successfully\")\n",
        "\n",
        "\"\"\"Always remember the 'w'=Writer will always overwrites the older data\n",
        "it means it will delete the data in to the file and insert new data\"\"\""
      ],
      "metadata": {
        "id": "lCw5VAFW2hsz"
      },
      "execution_count": null,
      "outputs": []
    },
    {
      "cell_type": "code",
      "source": [
        "#Adding a new data to the above Sample CSV file\n",
        "data = ['106', 'shakul', '40', 'Delhi', '50000']\n",
        "with open('sample_data.csv', 'a') as file:\n",
        "  writer = csv.writer(file)\n",
        "  writer.writerow(data)\n",
        "  print(\"CSV has been updated successfully\")\n",
        "\n",
        "\"\"\" Here 'a' is used to append the new data to the\n",
        "existing the data in the given file\"\"\""
      ],
      "metadata": {
        "colab": {
          "base_uri": "https://localhost:8080/",
          "height": 52
        },
        "id": "jbTC8eA12imU",
        "outputId": "60355055-4fcd-46bd-b3d5-5a06cabb9bea"
      },
      "execution_count": null,
      "outputs": [
        {
          "output_type": "stream",
          "name": "stdout",
          "text": [
            "CSV has been updated successfully\n"
          ]
        },
        {
          "output_type": "execute_result",
          "data": {
            "text/plain": [
              "\" Here 'a' is used to append the new data to the\\nexisting the data in the given file\""
            ],
            "application/vnd.google.colaboratory.intrinsic+json": {
              "type": "string"
            }
          },
          "metadata": {},
          "execution_count": 12
        }
      ]
    },
    {
      "cell_type": "code",
      "source": [
        "!pip install pandas"
      ],
      "metadata": {
        "colab": {
          "base_uri": "https://localhost:8080/"
        },
        "id": "Iz3O85jy2izo",
        "outputId": "3f5de65a-beda-4492-c421-4a0e9f157121"
      },
      "execution_count": null,
      "outputs": [
        {
          "output_type": "stream",
          "name": "stdout",
          "text": [
            "Requirement already satisfied: pandas in /usr/local/lib/python3.11/dist-packages (2.2.2)\n",
            "Requirement already satisfied: numpy>=1.23.2 in /usr/local/lib/python3.11/dist-packages (from pandas) (1.26.4)\n",
            "Requirement already satisfied: python-dateutil>=2.8.2 in /usr/local/lib/python3.11/dist-packages (from pandas) (2.8.2)\n",
            "Requirement already satisfied: pytz>=2020.1 in /usr/local/lib/python3.11/dist-packages (from pandas) (2024.2)\n",
            "Requirement already satisfied: tzdata>=2022.7 in /usr/local/lib/python3.11/dist-packages (from pandas) (2024.2)\n",
            "Requirement already satisfied: six>=1.5 in /usr/local/lib/python3.11/dist-packages (from python-dateutil>=2.8.2->pandas) (1.17.0)\n"
          ]
        }
      ]
    },
    {
      "cell_type": "code",
      "source": [
        "#This code works on offline pc\n",
        "import pandas as pd\n",
        "df=pd.read_csv('sample_data.csv')\n",
        "df"
      ],
      "metadata": {
        "id": "unIn4m992i-4"
      },
      "execution_count": null,
      "outputs": []
    },
    {
      "cell_type": "code",
      "source": [
        "#Scapping of the PDF document and read the data from this PDF\n",
        "!pip install tabula-py"
      ],
      "metadata": {
        "id": "QUVNV7i12jG1",
        "colab": {
          "base_uri": "https://localhost:8080/"
        },
        "outputId": "24bcdf05-a75f-4116-9d3f-423572bacaa7"
      },
      "execution_count": null,
      "outputs": [
        {
          "output_type": "stream",
          "name": "stdout",
          "text": [
            "Collecting tabula-py\n",
            "  Downloading tabula_py-2.10.0-py3-none-any.whl.metadata (7.6 kB)\n",
            "Requirement already satisfied: pandas>=0.25.3 in /usr/local/lib/python3.11/dist-packages (from tabula-py) (2.2.2)\n",
            "Requirement already satisfied: numpy>1.24.4 in /usr/local/lib/python3.11/dist-packages (from tabula-py) (1.26.4)\n",
            "Requirement already satisfied: distro in /usr/local/lib/python3.11/dist-packages (from tabula-py) (1.9.0)\n",
            "Requirement already satisfied: python-dateutil>=2.8.2 in /usr/local/lib/python3.11/dist-packages (from pandas>=0.25.3->tabula-py) (2.8.2)\n",
            "Requirement already satisfied: pytz>=2020.1 in /usr/local/lib/python3.11/dist-packages (from pandas>=0.25.3->tabula-py) (2024.2)\n",
            "Requirement already satisfied: tzdata>=2022.7 in /usr/local/lib/python3.11/dist-packages (from pandas>=0.25.3->tabula-py) (2024.2)\n",
            "Requirement already satisfied: six>=1.5 in /usr/local/lib/python3.11/dist-packages (from python-dateutil>=2.8.2->pandas>=0.25.3->tabula-py) (1.17.0)\n",
            "Downloading tabula_py-2.10.0-py3-none-any.whl (12.0 MB)\n",
            "\u001b[2K   \u001b[90m━━━━━━━━━━━━━━━━━━━━━━━━━━━━━━━━━━━━━━━━\u001b[0m \u001b[32m12.0/12.0 MB\u001b[0m \u001b[31m71.4 MB/s\u001b[0m eta \u001b[36m0:00:00\u001b[0m\n",
            "\u001b[?25hInstalling collected packages: tabula-py\n",
            "Successfully installed tabula-py-2.10.0\n"
          ]
        }
      ]
    },
    {
      "cell_type": "code",
      "source": [
        "!pip install PyPDF2"
      ],
      "metadata": {
        "id": "4wtz9Gz_2jPH",
        "colab": {
          "base_uri": "https://localhost:8080/"
        },
        "outputId": "028d5c6a-cc28-4ddd-c9ac-15ab056bf02c"
      },
      "execution_count": null,
      "outputs": [
        {
          "output_type": "stream",
          "name": "stdout",
          "text": [
            "Collecting PyPDF2\n",
            "  Downloading pypdf2-3.0.1-py3-none-any.whl.metadata (6.8 kB)\n",
            "Downloading pypdf2-3.0.1-py3-none-any.whl (232 kB)\n",
            "\u001b[2K   \u001b[90m━━━━━━━━━━━━━━━━━━━━━━━━━━━━━━━━━━━━━━━━\u001b[0m \u001b[32m232.6/232.6 kB\u001b[0m \u001b[31m4.6 MB/s\u001b[0m eta \u001b[36m0:00:00\u001b[0m\n",
            "\u001b[?25hInstalling collected packages: PyPDF2\n",
            "Successfully installed PyPDF2-3.0.1\n"
          ]
        }
      ]
    },
    {
      "cell_type": "code",
      "source": [
        "#Extracting the text  from the Given PDF file\n",
        "import PyPDF2\n",
        "with open('iph16prospecs.pdf', 'rb') as pdf_file:\n",
        "  reader = PyPDF2.PdfReader(pdf_file)\n",
        "\n",
        "  for page, i in enumerate(reader.pages):\n",
        "    text = i.extract_text()\n",
        "    print(\"Page\", page+1,\"Content : \\n\", text)\n",
        "\n",
        "  pdf_info = reader.metadata\n",
        "  print(\"Metadata of the PDF\", pdf_info)"
      ],
      "metadata": {
        "id": "Hq32JxCl2jUk",
        "colab": {
          "base_uri": "https://localhost:8080/"
        },
        "outputId": "2981fdb9-02d6-474d-978e-1a63190f1ee1"
      },
      "execution_count": null,
      "outputs": [
        {
          "output_type": "stream",
          "name": "stdout",
          "text": [
            "Page 1 Content : \n",
            " iPhone 16  Pro Specifications  \n",
            "NETWORK  Technology  GSM  / CDMA  / HSPA  / EVDO  / LTE / 5G  \n",
            "LAUNCH  Announced  2024, September 09  \n",
            "Status  Available. Released 2024, September 20  \n",
            "BODY  Dimensions  149.6 x 71.5 x 8.3 mm (5.89 x 2.81 x 0.33 in)  \n",
            "Weight  199 g (7.02 oz)  \n",
            "Build  Glass front (Corning -made glass), glass back (Corning -made glass), titanium \n",
            "frame (grade 5)  \n",
            "SIM  Nano -SIM and eSIM - International  \n",
            "Dual eSIM with multiple numbers - USA \n",
            "Dual SIM (Nano -SIM, dual stand -by) - China  \n",
            "  IP68 dust/water resistant (up to 6m for 30 min)  \n",
            "Apple Pay (Visa, MasterCard, AMEX certified)  \n",
            "DISPLAY  Type  LTPO Super Retina XDR OLED, 120Hz, HDR10, Dolby Vision, 1000 nits (typ), \n",
            "2000 nits (HBM)  \n",
            "Size  6.3 inches, 96.4 cm2 (~90.1% screen -to-body ratio)  \n",
            "Resolution  1206 x 2622 pixels, 19.5:9 ratio (~460 ppi density)  \n",
            "Protection  Ceramic Shield glass (2024 gen)  \n",
            "  Always -On display  \n",
            "PLATFORM  OS  iOS 18  \n",
            "Chipset  Apple A18 Pro (3 nm)  \n",
            "CPU  Hexa -core (2x4.04 GHz + 4x2.X GHz)  \n",
            "GPU  Apple GPU (6 -core graphics)  \n",
            "MEMORY  Card  slot  No \n",
            "Internal  128GB 8GB RAM, 256GB 8GB RAM, 512GB 8GB RAM, 1TB 8GB RAM  \n",
            "  NVMe  \n",
            "MAIN \n",
            "CAMERA  Triple  48 MP, f/1.8, 24mm (wide), 1/1.28\", 1.22µm, dual pixel PDAF, sensor -shift OIS  \n",
            "12 MP, f/2.8, 120mm (periscope telephoto), 1/3.06\", 1.12µm, dual pixel PDAF, 3D \n",
            "sensor -shift OIS, 5x optical zoom  \n",
            "48 MP, f/2.2, 13mm (ultrawide), 0.7µm, PDAF  \n",
            "TOF 3D LiDAR scanner  (depth)  \n",
            "Features  Dual-LED dual -tone flash, HDR (photo/panorama)  \n",
            "Video  4K@24/25/30/60/100/120fps, 1080p@25/30/60/120/240fps, 10 -bit HDR, Dolby \n",
            "Vision HDR (up to 60fps), ProRes, 3D (spatial) video/audio, stereo sound rec.  \n",
            "SELFIE \n",
            "CAMERA  Single  12 MP, f/1.9, 23mm (wide), 1/3.6\", PDAF, OIS  \n",
            "SL 3D, (depth/biometrics sensor)  \n",
            "Features  HDR, Dolby Vision HDR, 3D (spatial) audio, stereo sound rec.  \n",
            "Video  4K@24/25/30/60fps, 1080p@25/30/60/120fps, gyro -EIS \n",
            "SOUND  Loudspeaker  Yes, with stereo speakers  \n",
            "3.5mm  jack  No \n",
            "COMMS  WLAN  Wi-Fi 802.11 a/b/g/n/ac/6e/7, dual -band, hotspot  \n",
            "Bluetooth  5.3, A2DP, LE  \n",
            "Positioning  GPS (L1+L5), GLONASS, GALILEO, BDS, QZSS, NavIC  \n",
            "NFC  Yes \n",
            "Radio  No \n",
            "Page 2 Content : \n",
            " iPhone 16  Pro Specifications  \n",
            "USB  USB Type -C 3.2 Gen 2, DisplayPort  \n",
            "FEATURES  Sensors  Face ID, accelerometer, gyro, proximity, compass, barometer  \n",
            "  Ultra Wideband (UWB) support (gen2 chip)  \n",
            "Emergency SOS, Messages and Find My via satellite  \n",
            "BATTERY  Type  Li-Ion, non -removable  \n",
            "Charging  Wired, PD2.0, 50% in 30 min (advertised)  \n",
            "25W wireless (MagSafe), 15W wireless (China only)  \n",
            "15W wireless (Qi2)  \n",
            "4.5W reverse wired  \n",
            "MISC  Colors  Black Titanium, White Titanium, Natural Titanium, Desert Titanium  \n",
            "Models  A3293, A3083, A3292, A3294, iPhone17,1  \n",
            "Price  $ 999.99  / £ 1,499.00  / € 1,199.00  \n",
            " \n",
            "Metadata of the PDF {'/Author': 'Angelique Wallace', '/Creator': 'Microsoft® Word 2019', '/CreationDate': \"D:20240920162613-04'00'\", '/ModDate': \"D:20240920162613-04'00'\", '/Producer': 'Microsoft® Word 2019'}\n"
          ]
        }
      ]
    },
    {
      "cell_type": "code",
      "source": [
        "#Extracting the Head data from the PDF file\n",
        "\n",
        "#Try this code while watching the recorded video in V learn portal\n",
        "\n",
        "pdf_path = 'iph16prospecs.pdf'\n",
        "search_heading = \"DISPLAY\"\n",
        "\n",
        "with open(pdf_path, 'rb') as pdf_file:\n",
        "  reader = PyPDF2.PdfReader(pdf_file)\n",
        "\n",
        "  for page in reader.pages:\n",
        "    text = page.extract_text()\n",
        "    if text:\n",
        "      lines = text.split('\\n')\n",
        "      for line in lines:\n",
        "        if search_heading in line:\n",
        "          print(f\"Value for {search_heading}:\")\n",
        "          for j in range(j+1, j+5):\n",
        "            print(lines[j])\n",
        "            break"
      ],
      "metadata": {
        "id": "vltxwGTr2jZR",
        "colab": {
          "base_uri": "https://localhost:8080/",
          "height": 228
        },
        "outputId": "bebc3108-9a18-4e6c-e9e7-a39a29dbe848"
      },
      "execution_count": null,
      "outputs": [
        {
          "output_type": "stream",
          "name": "stdout",
          "text": [
            "Value for DISPLAY:\n"
          ]
        },
        {
          "output_type": "error",
          "ename": "NameError",
          "evalue": "name 'j' is not defined",
          "traceback": [
            "\u001b[0;31m---------------------------------------------------------------------------\u001b[0m",
            "\u001b[0;31mNameError\u001b[0m                                 Traceback (most recent call last)",
            "\u001b[0;32m<ipython-input-31-b0f55a7aa2dc>\u001b[0m in \u001b[0;36m<cell line: 0>\u001b[0;34m()\u001b[0m\n\u001b[1;32m     14\u001b[0m         \u001b[0;32mif\u001b[0m \u001b[0msearch_heading\u001b[0m \u001b[0;32min\u001b[0m \u001b[0mline\u001b[0m\u001b[0;34m:\u001b[0m\u001b[0;34m\u001b[0m\u001b[0;34m\u001b[0m\u001b[0m\n\u001b[1;32m     15\u001b[0m           \u001b[0mprint\u001b[0m\u001b[0;34m(\u001b[0m\u001b[0;34mf\"Value for {search_heading}:\"\u001b[0m\u001b[0;34m)\u001b[0m\u001b[0;34m\u001b[0m\u001b[0;34m\u001b[0m\u001b[0m\n\u001b[0;32m---> 16\u001b[0;31m           \u001b[0;32mfor\u001b[0m \u001b[0mj\u001b[0m \u001b[0;32min\u001b[0m \u001b[0mrange\u001b[0m\u001b[0;34m(\u001b[0m\u001b[0mj\u001b[0m\u001b[0;34m+\u001b[0m\u001b[0;36m1\u001b[0m\u001b[0;34m,\u001b[0m \u001b[0mj\u001b[0m\u001b[0;34m+\u001b[0m\u001b[0;36m5\u001b[0m\u001b[0;34m)\u001b[0m\u001b[0;34m:\u001b[0m\u001b[0;34m\u001b[0m\u001b[0;34m\u001b[0m\u001b[0m\n\u001b[0m\u001b[1;32m     17\u001b[0m             \u001b[0mprint\u001b[0m\u001b[0;34m(\u001b[0m\u001b[0mlines\u001b[0m\u001b[0;34m[\u001b[0m\u001b[0mj\u001b[0m\u001b[0;34m]\u001b[0m\u001b[0;34m)\u001b[0m\u001b[0;34m\u001b[0m\u001b[0;34m\u001b[0m\u001b[0m\n\u001b[1;32m     18\u001b[0m             \u001b[0;32mbreak\u001b[0m\u001b[0;34m\u001b[0m\u001b[0;34m\u001b[0m\u001b[0m\n",
            "\u001b[0;31mNameError\u001b[0m: name 'j' is not defined"
          ]
        }
      ]
    },
    {
      "cell_type": "code",
      "source": [],
      "metadata": {
        "id": "Mpoa3IZtFmNu"
      },
      "execution_count": null,
      "outputs": []
    },
    {
      "cell_type": "code",
      "source": [],
      "metadata": {
        "id": "cJzrYBdQFmc_"
      },
      "execution_count": null,
      "outputs": []
    },
    {
      "cell_type": "code",
      "source": [],
      "metadata": {
        "id": "8qE4qvSBFmqe"
      },
      "execution_count": null,
      "outputs": []
    },
    {
      "cell_type": "code",
      "source": [],
      "metadata": {
        "id": "DgYrExMEFm2M"
      },
      "execution_count": null,
      "outputs": []
    }
  ]
}