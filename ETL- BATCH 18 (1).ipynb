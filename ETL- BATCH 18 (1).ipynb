{
 "cells": [
  {
   "cell_type": "code",
   "execution_count": 1,
   "id": "fc1cdba8-00f3-4abd-96ee-10693f791100",
   "metadata": {},
   "outputs": [
    {
     "name": "stdout",
     "output_type": "stream",
     "text": [
      "🍅 Fetching Latest Movies from Rotten Tomatoes...\n",
      "✅ Fetched 13 movies from Rotten Tomatoes!\n",
      "\n",
      "['Detective_Chinatown_1900', 'Hit_N_Fun', 'Gi_Dle_World_Tour_Idol_In_Cinemas', 'Round_The_Decay', 'Ponman', 'Thudarum', 'No_Other_Land', 'Screamboat', 'Picnic_At_Hanging_Rock', 'Marcello_Mio', 'Time_Passages', 'Majhail', 'When_We_Free_The_World']\n"
     ]
    }
   ],
   "source": [
    "import requests\n",
    "from bs4 import BeautifulSoup\n",
    "\n",
    "def fetch_movies_from_rotten_tomatoes():\n",
    "    print(\"🍅 Fetching Latest Movies from Rotten Tomatoes...\")\n",
    "    url = \"https://www.rottentomatoes.com/browse/movies_in_theaters\"\n",
    "\n",
    "    headers = {\n",
    "        \"User-Agent\": \"Mozilla/5.0\"  # Mimic a real browser\n",
    "    }\n",
    "\n",
    "    try:\n",
    "        response = requests.get(url, headers=headers)\n",
    "        #response.raise_for_status()  \n",
    "        soup = BeautifulSoup(response.content, \"html.parser\")\n",
    "        #print(soup)\n",
    "        titles = []\n",
    "        for i in soup.select('a.js-tile-link'):\n",
    "            title = i.get(\"href\").split(\"/\")[-1].replace(\"-\", \" \").title()\n",
    "            titles.append(title)\n",
    "\n",
    "        print(f\"✅ Fetched {len(titles)} movies from Rotten Tomatoes!\\n\")\n",
    "        return titles[:30]  # Limit to 30 latest movies\n",
    "\n",
    "    except requests.exceptions.RequestException as e:\n",
    "        print(f\"❌ Error while scraping Rotten Tomatoes: {e}\")\n",
    "        return []\n",
    "\n",
    "# Test the function\n",
    "titles = fetch_movies_from_rotten_tomatoes()\n",
    "print(titles)"
   ]
  },
  {
   "cell_type": "code",
   "execution_count": 21,
   "id": "f53e97dd-7012-499a-93b4-e3e32e2ad3ca",
   "metadata": {},
   "outputs": [
    {
     "name": "stdout",
     "output_type": "stream",
     "text": [
      "✅ Fetched 1 movies successfully!\n",
      "\n",
      "[\n",
      "    {\n",
      "        \"Title\": \"Ponman\",\n",
      "        \"Year\": \"2025\",\n",
      "        \"Rated\": \"N/A\",\n",
      "        \"Released\": \"06 Feb 2025\",\n",
      "        \"Runtime\": \"N/A\",\n",
      "        \"Genre\": \"N/A\",\n",
      "        \"Director\": \"Jotish Shankar\",\n",
      "        \"Writer\": \"G.R. Indugopan, Justin Mathew\",\n",
      "        \"Actors\": \"Basil Joseph, Jaya Kurup, Lijo Mol Jose\",\n",
      "        \"Plot\": \"N/A\",\n",
      "        \"Language\": \"N/A\",\n",
      "        \"Country\": \"India\",\n",
      "        \"Awards\": \"N/A\",\n",
      "        \"Poster\": \"https://m.media-amazon.com/images/M/MV5BNGYxOGI5ZmYtNGM1Zi00OTI1LTg3NTMtOGQ0ZjJmNTdkNmY1XkEyXkFqcGc@._V1_SX300.jpg\",\n",
      "        \"Ratings\": [],\n",
      "        \"Metascore\": \"N/A\",\n",
      "        \"imdbRating\": \"N/A\",\n",
      "        \"imdbVotes\": \"N/A\",\n",
      "        \"imdbID\": \"tt30089457\",\n",
      "        \"Type\": \"movie\",\n",
      "        \"DVD\": \"N/A\",\n",
      "        \"BoxOffice\": \"N/A\",\n",
      "        \"Production\": \"N/A\",\n",
      "        \"Website\": \"N/A\",\n",
      "        \"Response\": \"True\"\n",
      "    }\n",
      "]\n"
     ]
    }
   ],
   "source": [
    "import requests\n",
    "from bs4 import BeautifulSoup\n",
    "import json\n",
    "\n",
    "# Rotten Tomatoes URL\n",
    "url = \"https://www.omdbapi.com/?t=Ponman&apikey=79554ea1\"\n",
    "\n",
    "response = requests.get(url)\n",
    "\n",
    "if response.status_code == 200:\n",
    "    movies = []  # Initialize movies list\n",
    "    titles = [\"Ponman\"]  # Ensure titles list is defined\n",
    "\n",
    "    for i in titles:\n",
    "        url = f\"https://www.omdbapi.com/?t={i}&apikey=79554ea1\"\n",
    "\n",
    "        try:\n",
    "            response = requests.get(url)\n",
    "            # response.raise_for_status()  # Uncomment if you want to catch errors\n",
    "\n",
    "            data = response.json()\n",
    "\n",
    "            if data.get(\"Response\") == \"True\":\n",
    "                movies.append(data)\n",
    "            else:\n",
    "                print(f\"❌ Movie not found: {i}\")\n",
    "\n",
    "        except requests.exceptions.RequestException as e:\n",
    "            print(f\"❌ Request Error for {i}: {e}\")\n",
    "\n",
    "    print(f\"✅ Fetched {len(movies)} movies successfully!\\n\")\n",
    "    print(json.dumps(movies, indent=4))  # Pretty-print JSON output\n",
    "#return movies   - was giving intendation error, th\n",
    "# extract_movies(titles)"
   ]
  },
  {
   "cell_type": "code",
   "execution_count": 17,
   "id": "3074024d-fa6e-4c49-8d21-84a02103cd13",
   "metadata": {},
   "outputs": [
    {
     "name": "stdout",
     "output_type": "stream",
     "text": [
      "[{'Title': 'Ponman', 'Year': '2025'}]\n"
     ]
    }
   ],
   "source": [
    "def transformation(movies):\n",
    "    TransformMovies= []\n",
    "    for i in movies:\n",
    "        t=i.get(\"Title\")\n",
    "        y=i.get(\"Year\")\n",
    "        TransformMovies.append({\"Title\":t,\"Year\":y})\n",
    "    print(TransformMovies) \n",
    "transformation(movies)"
   ]
  },
  {
   "cell_type": "code",
   "execution_count": null,
   "id": "6b9391de-c61c-41f9-9c02-845aa16cfb2f",
   "metadata": {},
   "outputs": [],
   "source": []
  }
 ],
 "metadata": {
  "kernelspec": {
   "display_name": "Python 3 (ipykernel)",
   "language": "python",
   "name": "python3"
  },
  "language_info": {
   "codemirror_mode": {
    "name": "ipython",
    "version": 3
   },
   "file_extension": ".py",
   "mimetype": "text/x-python",
   "name": "python",
   "nbconvert_exporter": "python",
   "pygments_lexer": "ipython3",
   "version": "3.12.7"
  }
 },
 "nbformat": 4,
 "nbformat_minor": 5
}
